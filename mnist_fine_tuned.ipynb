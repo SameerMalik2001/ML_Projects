{
 "cells": [
  {
   "cell_type": "markdown",
   "metadata": {},
   "source": [
    "creating new dataset"
   ]
  },
  {
   "cell_type": "code",
   "execution_count": 184,
   "metadata": {},
   "outputs": [],
   "source": [
    "import os\n",
    "import numpy as np\n",
    "import cv2\n",
    "from PIL import Image\n",
    "from tensorflow import keras\n",
    "import tensorflow as tf"
   ]
  },
  {
   "cell_type": "code",
   "execution_count": 185,
   "metadata": {},
   "outputs": [],
   "source": [
    "image_folder = 'dataset'\n",
    "image_files = os.listdir(image_folder)\n",
    "common_size = (28, 28)\n",
    "image_array_list = []\n",
    "for image_file in image_files:\n",
    "    image_path = os.path.join(image_folder, image_file)\n",
    "    pil_image = Image.open(image_path)\n",
    "    pil_image_resized = pil_image.resize(common_size)\n",
    "    image_array = np.array(pil_image_resized)\n",
    "    image_array_list.append(image_array)"
   ]
  },
  {
   "cell_type": "code",
   "execution_count": 186,
   "metadata": {},
   "outputs": [],
   "source": [
    "X = np.array(image_array_list)\n",
    "X1 = []"
   ]
  },
  {
   "cell_type": "code",
   "execution_count": 187,
   "metadata": {},
   "outputs": [],
   "source": [
    "for i in X:\n",
    "    img = i\n",
    "    pil_image_resized = cv2.cvtColor(img, cv2.COLOR_RGB2GRAY)\n",
    "    X1.append(pil_image_resized)"
   ]
  },
  {
   "cell_type": "code",
   "execution_count": 188,
   "metadata": {},
   "outputs": [
    {
     "data": {
      "text/plain": [
       "(9008, 28, 28)"
      ]
     },
     "execution_count": 188,
     "metadata": {},
     "output_type": "execute_result"
    }
   ],
   "source": [
    "X = np.array(X1)\n",
    "X.shape"
   ]
  },
  {
   "cell_type": "code",
   "execution_count": 189,
   "metadata": {},
   "outputs": [],
   "source": [
    "Y = []\n",
    "\n",
    "for i in range(595):\n",
    "    Y.append(0)\n",
    "\n",
    "for i in range(562):\n",
    "    Y.append(1)\n",
    "\n",
    "for i in range(433):\n",
    "    Y.append(2)\n",
    "\n",
    "for i in range(541):\n",
    "    Y.append(3)\n",
    "\n",
    "for i in range(526):\n",
    "    Y.append(4)\n",
    "\n",
    "for i in range(433):\n",
    "    Y.append(5)\n",
    "\n",
    "for i in range(581):\n",
    "    Y.append(6)\n",
    "\n",
    "for i in range(533):\n",
    "    Y.append(7)\n",
    "\n",
    "for i in range(554):\n",
    "    Y.append(8)\n",
    "\n",
    "for i in range(546):\n",
    "    Y.append(9)\n",
    "\n",
    "for i in range(596):\n",
    "    Y.append(10)  # +\n",
    "\n",
    "for i in range(618):\n",
    "    Y.append(11)  # /\n",
    "\n",
    "for i in range(624):\n",
    "    Y.append(12)   # .\n",
    "\n",
    "for i in range(634):\n",
    "    Y.append(13)   #  =\n",
    "\n",
    "for i in range(577):\n",
    "    Y.append(14)   #  *\n",
    "\n",
    "for i in range(655):\n",
    "    Y.append(15)   #  -\n"
   ]
  },
  {
   "cell_type": "code",
   "execution_count": 190,
   "metadata": {},
   "outputs": [],
   "source": [
    "Y = np.array(Y)"
   ]
  },
  {
   "cell_type": "markdown",
   "metadata": {},
   "source": [
    "just shuffle them to select 4 params"
   ]
  },
  {
   "cell_type": "code",
   "execution_count": 191,
   "metadata": {},
   "outputs": [],
   "source": [
    "length = len(X)\n",
    "\n",
    "random_indices = np.random.permutation(length)\n",
    "\n",
    "X = X[random_indices]\n",
    "Y = Y[random_indices]"
   ]
  },
  {
   "cell_type": "markdown",
   "metadata": {},
   "source": [
    "split data"
   ]
  },
  {
   "cell_type": "code",
   "execution_count": 192,
   "metadata": {},
   "outputs": [],
   "source": [
    "x_train, x_test, y_train, y_test = X[:8000], X[8000:], Y[:8000], Y[8000:]"
   ]
  },
  {
   "cell_type": "code",
   "execution_count": 193,
   "metadata": {},
   "outputs": [
    {
     "data": {
      "text/plain": [
       "((8000, 28, 28), (1008, 28, 28), (8000,), (1008,))"
      ]
     },
     "execution_count": 193,
     "metadata": {},
     "output_type": "execute_result"
    }
   ],
   "source": [
    "x_train.shape , x_test.shape , y_train.shape , y_test.shape "
   ]
  },
  {
   "cell_type": "code",
   "execution_count": 194,
   "metadata": {},
   "outputs": [],
   "source": [
    "old_model = keras.models.load_model('MODEL.h5')"
   ]
  },
  {
   "cell_type": "code",
   "execution_count": 195,
   "metadata": {},
   "outputs": [
    {
     "data": {
      "image/png": "[encoded data removed]",
      "text/plain": [
       "<Figure size 640x480 with 1 Axes>"
      ]
     },
     "metadata": {},
     "output_type": "display_data"
    }
   ],
   "source": [
    "import matplotlib.pyplot as plt\n",
    "import seaborn as sns\n",
    "\n",
    "plt.imshow(x_train[50])\n",
    "plt.show()"
   ]
  },
  {
   "cell_type": "code",
   "execution_count": 196,
   "metadata": {},
   "outputs": [
    {
     "data": {
      "text/plain": [
       "6"
      ]
     },
     "execution_count": 196,
     "metadata": {},
     "output_type": "execute_result"
    }
   ],
   "source": [
    "y_train[50]"
   ]
  },
  {
   "cell_type": "code",
   "execution_count": 197,
   "metadata": {},
   "outputs": [
    {
     "name": "stdout",
     "output_type": "stream",
     "text": [
      "[ 0  1  2  3  4  5  6  7  8  9 10 11 12 13 14 15]\n",
      "[ 0  1  2  3  4  5  6  7  8  9 10 11 12 13 14 15]\n"
     ]
    }
   ],
   "source": [
    "print(np.unique(y_train))\n",
    "print(np.unique(y_test))"
   ]
  },
  {
   "cell_type": "code",
   "execution_count": 198,
   "metadata": {},
   "outputs": [],
   "source": [
    "x_train = x_train / 255\n",
    "x_test = x_test / 255"
   ]
  },
  {
   "cell_type": "markdown",
   "metadata": {},
   "source": [
    "make model of NN"
   ]
  },
  {
   "cell_type": "code",
   "execution_count": 199,
   "metadata": {},
   "outputs": [],
   "source": [
    "model = keras.Sequential([\n",
    "    keras.layers.Flatten(input_shape=(28,28)),\n",
    "    old_model.layers[1],\n",
    "    old_model.layers[2],\n",
    "    keras.layers.Dense(50, activation='relu'),\n",
    "    keras.layers.Dense(50, activation='relu'),\n",
    "    keras.layers.Dense(16, activation='sigmoid')\n",
    "])"
   ]
  },
  {
   "cell_type": "code",
   "execution_count": 200,
   "metadata": {},
   "outputs": [],
   "source": [
    "# for layer in model.layers[:2]:\n",
    "#     layer.trainable = False"
   ]
  },
  {
   "cell_type": "code",
   "execution_count": 201,
   "metadata": {},
   "outputs": [],
   "source": [
    "model.compile(optimizer='adam',loss='sparse_categorical_crossentropy', metrics=['accuracy'])"
   ]
  },
  {
   "cell_type": "code",
   "execution_count": 202,
   "metadata": {},
   "outputs": [],
   "source": [
    "for layer in model.layers[:2]:\n",
    "    layer.trainable = False"
   ]
  },
  {
   "cell_type": "code",
   "execution_count": 203,
   "metadata": {},
   "outputs": [
    {
     "name": "stdout",
     "output_type": "stream",
     "text": [
      "Epoch 1/50\n"
     ]
    },
    {
     "name": "stdout",
     "output_type": "stream",
     "text": [
      "250/250 [==============================] - 1s 2ms/step - loss: 2.5822 - accuracy: 0.2164\n",
      "Epoch 2/50\n",
      "250/250 [==============================] - 0s 2ms/step - loss: 2.0323 - accuracy: 0.3641\n",
      "Epoch 3/50\n",
      "250/250 [==============================] - 0s 2ms/step - loss: 1.8013 - accuracy: 0.4313\n",
      "Epoch 4/50\n",
      "250/250 [==============================] - 0s 2ms/step - loss: 1.6275 - accuracy: 0.4924\n",
      "Epoch 5/50\n",
      "250/250 [==============================] - 0s 2ms/step - loss: 1.5193 - accuracy: 0.5195\n",
      "Epoch 6/50\n",
      "250/250 [==============================] - 0s 2ms/step - loss: 1.4313 - accuracy: 0.5501\n",
      "Epoch 7/50\n",
      "250/250 [==============================] - 1s 3ms/step - loss: 1.3336 - accuracy: 0.5878\n",
      "Epoch 8/50\n",
      "250/250 [==============================] - 1s 4ms/step - loss: 1.2693 - accuracy: 0.5951\n",
      "Epoch 9/50\n",
      "250/250 [==============================] - 1s 3ms/step - loss: 1.2077 - accuracy: 0.6136\n",
      "Epoch 10/50\n",
      "250/250 [==============================] - 1s 3ms/step - loss: 1.1353 - accuracy: 0.6410\n",
      "Epoch 11/50\n",
      "250/250 [==============================] - 1s 4ms/step - loss: 1.1159 - accuracy: 0.6439\n",
      "Epoch 12/50\n",
      "250/250 [==============================] - 1s 4ms/step - loss: 1.0710 - accuracy: 0.6555\n",
      "Epoch 13/50\n",
      "250/250 [==============================] - 1s 3ms/step - loss: 1.0446 - accuracy: 0.6680\n",
      "Epoch 14/50\n",
      "250/250 [==============================] - 1s 3ms/step - loss: 0.9979 - accuracy: 0.6784\n",
      "Epoch 15/50\n",
      "250/250 [==============================] - 1s 3ms/step - loss: 0.9755 - accuracy: 0.6805\n",
      "Epoch 16/50\n",
      "250/250 [==============================] - 1s 3ms/step - loss: 0.9385 - accuracy: 0.6960\n",
      "Epoch 17/50\n",
      "250/250 [==============================] - 1s 4ms/step - loss: 0.9233 - accuracy: 0.6976\n",
      "Epoch 18/50\n",
      "250/250 [==============================] - 1s 3ms/step - loss: 0.8696 - accuracy: 0.7195\n",
      "Epoch 19/50\n",
      "250/250 [==============================] - 1s 3ms/step - loss: 0.8521 - accuracy: 0.7258\n",
      "Epoch 20/50\n",
      "250/250 [==============================] - 1s 3ms/step - loss: 0.8183 - accuracy: 0.7344\n",
      "Epoch 21/50\n",
      "250/250 [==============================] - 1s 3ms/step - loss: 0.7963 - accuracy: 0.7419\n",
      "Epoch 22/50\n",
      "250/250 [==============================] - 1s 3ms/step - loss: 0.7590 - accuracy: 0.7527\n",
      "Epoch 23/50\n",
      "250/250 [==============================] - 1s 3ms/step - loss: 0.7809 - accuracy: 0.7473\n",
      "Epoch 24/50\n",
      "250/250 [==============================] - 1s 3ms/step - loss: 0.7354 - accuracy: 0.7604\n",
      "Epoch 25/50\n",
      "250/250 [==============================] - 1s 3ms/step - loss: 0.7206 - accuracy: 0.7703\n",
      "Epoch 26/50\n",
      "250/250 [==============================] - 1s 3ms/step - loss: 0.7571 - accuracy: 0.7556\n",
      "Epoch 27/50\n",
      "250/250 [==============================] - 1s 3ms/step - loss: 0.6801 - accuracy: 0.7760\n",
      "Epoch 28/50\n",
      "250/250 [==============================] - 1s 3ms/step - loss: 0.6817 - accuracy: 0.7816\n",
      "Epoch 29/50\n",
      "250/250 [==============================] - 1s 3ms/step - loss: 0.6713 - accuracy: 0.7820\n",
      "Epoch 30/50\n",
      "250/250 [==============================] - 1s 3ms/step - loss: 0.6463 - accuracy: 0.7895\n",
      "Epoch 31/50\n",
      "250/250 [==============================] - 1s 3ms/step - loss: 0.6486 - accuracy: 0.7869\n",
      "Epoch 32/50\n",
      "250/250 [==============================] - 1s 3ms/step - loss: 0.6328 - accuracy: 0.7921\n",
      "Epoch 33/50\n",
      "250/250 [==============================] - 1s 3ms/step - loss: 0.6296 - accuracy: 0.7897\n",
      "Epoch 34/50\n",
      "250/250 [==============================] - 1s 3ms/step - loss: 0.5928 - accuracy: 0.8037\n",
      "Epoch 35/50\n",
      "250/250 [==============================] - 1s 3ms/step - loss: 0.5851 - accuracy: 0.8073\n",
      "Epoch 36/50\n",
      "250/250 [==============================] - 1s 3ms/step - loss: 0.5748 - accuracy: 0.8104\n",
      "Epoch 37/50\n",
      "250/250 [==============================] - 1s 3ms/step - loss: 0.5840 - accuracy: 0.8077\n",
      "Epoch 38/50\n",
      "250/250 [==============================] - 1s 3ms/step - loss: 0.5518 - accuracy: 0.8196\n",
      "Epoch 39/50\n",
      "250/250 [==============================] - 1s 3ms/step - loss: 0.5296 - accuracy: 0.8251\n",
      "Epoch 40/50\n",
      "250/250 [==============================] - 1s 3ms/step - loss: 0.5472 - accuracy: 0.8224\n",
      "Epoch 41/50\n",
      "250/250 [==============================] - 1s 3ms/step - loss: 0.5215 - accuracy: 0.8248\n",
      "Epoch 42/50\n",
      "250/250 [==============================] - 1s 3ms/step - loss: 0.5067 - accuracy: 0.8310\n",
      "Epoch 43/50\n",
      "250/250 [==============================] - 1s 3ms/step - loss: 0.5145 - accuracy: 0.8286\n",
      "Epoch 44/50\n",
      "250/250 [==============================] - 1s 3ms/step - loss: 0.4926 - accuracy: 0.8326\n",
      "Epoch 45/50\n",
      "250/250 [==============================] - 1s 4ms/step - loss: 0.4658 - accuracy: 0.8451\n",
      "Epoch 46/50\n",
      "250/250 [==============================] - 1s 3ms/step - loss: 0.4690 - accuracy: 0.8446\n",
      "Epoch 47/50\n",
      "250/250 [==============================] - 1s 3ms/step - loss: 0.4664 - accuracy: 0.8403\n",
      "Epoch 48/50\n",
      "250/250 [==============================] - 1s 3ms/step - loss: 0.4756 - accuracy: 0.8409\n",
      "Epoch 49/50\n",
      "250/250 [==============================] - 1s 4ms/step - loss: 0.4558 - accuracy: 0.8549\n",
      "Epoch 50/50\n",
      "250/250 [==============================] - 1s 3ms/step - loss: 0.4616 - accuracy: 0.8475\n"
     ]
    },
    {
     "data": {
      "text/plain": [
       "<keras.src.callbacks.History at 0x20e014b0650>"
      ]
     },
     "execution_count": 203,
     "metadata": {},
     "output_type": "execute_result"
    }
   ],
   "source": [
    "model.fit(x_train, y_train, epochs=50)"
   ]
  },
  {
   "cell_type": "markdown",
   "metadata": {},
   "source": [
    "accuracy is 84.75%"
   ]
  },
  {
   "cell_type": "code",
   "execution_count": 204,
   "metadata": {},
   "outputs": [
    {
     "name": "stdout",
     "output_type": "stream",
     "text": [
      "32/32 [==============================] - 0s 1ms/step - loss: 0.8215 - accuracy: 0.7599\n",
      "0.8214592337608337 0.7599206566810608\n"
     ]
    }
   ],
   "source": [
    "loss, accuracy = model.evaluate(x_test, y_test)\n",
    "print(loss, accuracy)"
   ]
  },
  {
   "cell_type": "markdown",
   "metadata": {},
   "source": [
    "accuracy is 76% on test data"
   ]
  },
  {
   "cell_type": "code",
   "execution_count": 205,
   "metadata": {},
   "outputs": [
    {
     "data": {
      "text/plain": [
       "<matplotlib.image.AxesImage at 0x20e01e42f10>"
      ]
     },
     "execution_count": 205,
     "metadata": {},
     "output_type": "execute_result"
    },
    {
     "data": {
      "image/png": "[encoded data removed]",
      "text/plain": [
       "<Figure size 640x480 with 1 Axes>"
      ]
     },
     "metadata": {},
     "output_type": "display_data"
    }
   ],
   "source": [
    "plt.imshow(x_test[10])"
   ]
  },
  {
   "cell_type": "code",
   "execution_count": 206,
   "metadata": {},
   "outputs": [
    {
     "name": "stdout",
     "output_type": "stream",
     "text": [
      "32/32 [==============================] - 0s 1ms/step\n"
     ]
    }
   ],
   "source": [
    "y_pred = model.predict(x_test)"
   ]
  },
  {
   "cell_type": "code",
   "execution_count": 207,
   "metadata": {},
   "outputs": [
    {
     "name": "stdout",
     "output_type": "stream",
     "text": [
      "9\n"
     ]
    }
   ],
   "source": [
    "print(np.argmax(y_pred[10]))"
   ]
  },
  {
   "cell_type": "code",
   "execution_count": 208,
   "metadata": {},
   "outputs": [
    {
     "name": "stdout",
     "output_type": "stream",
     "text": [
      "[15, 4, 1, 6, 14, 12, 3, 15, 15, 11, 9, 9, 15, 9, 11, 10, 12, 14, 8, 2, 13, 9, 9, 9, 8, 13, 11, 14, 1, 8, 5, 12, 8, 3, 8, 5, 14, 3, 2, 12, 0, 9, 12, 9, 7, 5, 14, 12, 1, 3, 8, 1, 12, 3, 8, 7, 6, 5, 5, 1, 4, 2, 14, 4, 6, 11, 14, 0, 12, 5, 7, 14, 1, 10, 1, 2, 2, 8, 1, 12, 13, 7, 6, 5, 5, 0, 10, 11, 5, 3, 1, 4, 1, 12, 15, 14, 0, 9, 0, 2, 0, 12, 12, 3, 7, 14, 1, 3, 14, 10, 6, 3, 1, 7, 13, 12, 15, 10, 13, 4, 0, 5, 2, 8, 4, 4, 15, 12, 12, 4, 7, 9, 8, 1, 1, 12, 9, 12, 11, 0, 1, 13, 1, 5, 1, 2, 8, 9, 4, 6, 13, 14, 8, 15, 12, 8, 3, 8, 10, 15, 11, 8, 10, 0, 8, 9, 10, 14, 11, 9, 10, 7, 12, 5, 13, 15, 15, 12, 13, 15, 8, 5, 10, 15, 7, 11, 0, 13, 5, 1, 4, 6, 1, 7, 11, 8, 9, 12, 0, 13, 9, 2, 13, 0, 5, 8, 7, 4, 1, 8, 14, 14, 8, 12, 5, 3, 0, 14, 0, 3, 12, 14, 12, 15, 4, 10, 1, 6, 12, 13, 14, 15, 14, 14, 2, 15, 8, 12, 0, 3, 15, 5, 1, 13, 5, 1, 14, 8, 5, 13, 14, 2, 12, 5, 5, 9, 14, 1, 13, 8, 5, 13, 3, 2, 11, 0, 10, 9, 14, 14, 8, 9, 14, 4, 3, 7, 0, 6, 2, 8, 11, 5, 14, 13, 2, 1, 12, 11, 9, 12, 0, 2, 1, 3, 13, 8, 8, 2, 14, 13, 5, 11, 5, 0, 5, 7, 3, 12, 3, 2, 13, 4, 4, 13, 12, 10, 10, 5, 4, 5, 9, 1, 10, 4, 8, 0, 10, 14, 0, 4, 10, 7, 12, 15, 4, 11, 6, 10, 15, 4, 8, 14, 12, 12, 8, 8, 11, 15, 3, 1, 15, 14, 5, 1, 10, 6, 15, 2, 14, 12, 13, 7, 9, 15, 9, 12, 0, 8, 1, 0, 1, 8, 1, 14, 6, 15, 14, 8, 15, 9, 9, 5, 13, 9, 0, 5, 9, 10, 6, 10, 15, 9, 5, 4, 8, 0, 6, 5, 2, 9, 12, 4, 8, 0, 5, 6, 0, 1, 5, 14, 13, 9, 6, 12, 1, 12, 13, 14, 12, 4, 2, 3, 15, 7, 8, 15, 1, 12, 11, 10, 0, 15, 13, 7, 0, 7, 6, 1, 14, 0, 0, 2, 9, 9, 5, 4, 13, 13, 9, 12, 1, 10, 8, 12, 1, 15, 13, 1, 15, 8, 8, 6, 8, 10, 11, 5, 13, 1, 2, 9, 12, 0, 0, 12, 13, 13, 9, 4, 14, 13, 4, 6, 1, 2, 1, 8, 14, 13, 2, 9, 11, 2, 9, 9, 14, 13, 11, 4, 1, 14, 9, 5, 7, 5, 13, 8, 0, 12, 8, 2, 7, 9, 14, 0, 5, 11, 5, 2, 12, 8, 12, 9, 5, 7, 9, 12, 13, 2, 15, 8, 8, 12, 11, 5, 8, 14, 12, 7, 12, 13, 12, 0, 7, 2, 6, 7, 0, 13, 6, 6, 12, 1, 11, 15, 10, 4, 6, 8, 2, 0, 2, 7, 1, 8, 11, 9, 12, 6, 3, 9, 13, 4, 7, 6, 9, 8, 0, 15, 1, 11, 6, 2, 11, 7, 6, 11, 4, 6, 4, 14, 12, 3, 4, 14, 14, 8, 14, 1, 6, 5, 15, 15, 12, 13, 14, 9, 5, 5, 14, 1, 14, 14, 2, 11, 8, 5, 13, 12, 10, 4, 9, 7, 14, 3, 7, 15, 15, 7, 13, 9, 14, 8, 11, 10, 15, 3, 1, 5, 15, 7, 14, 9, 10, 3, 8, 0, 14, 15, 15, 9, 5, 4, 6, 13, 0, 6, 12, 0, 12, 15, 12, 11, 10, 14, 2, 15, 4, 13, 7, 8, 7, 4, 10, 12, 8, 12, 0, 5, 7, 12, 12, 7, 8, 9, 9, 6, 6, 8, 8, 7, 10, 9, 4, 6, 9, 14, 13, 7, 5, 8, 14, 15, 15, 15, 9, 9, 11, 5, 5, 11, 5, 4, 11, 14, 15, 3, 5, 0, 2, 4, 8, 1, 10, 6, 11, 8, 5, 13, 7, 12, 2, 4, 13, 10, 12, 6, 8, 8, 11, 5, 0, 12, 7, 12, 15, 4, 10, 4, 12, 13, 8, 7, 8, 3, 0, 14, 1, 12, 4, 14, 13, 14, 15, 10, 2, 11, 7, 14, 5, 8, 7, 13, 1, 9, 0, 6, 5, 1, 15, 6, 8, 13, 14, 4, 1, 12, 4, 3, 8, 15, 13, 6, 5, 5, 8, 14, 10, 3, 0, 14, 13, 1, 12, 15, 8, 12, 6, 11, 5, 12, 13, 14, 11, 12, 7, 8, 13, 12, 0, 10, 12, 5, 3, 3, 6, 15, 12, 14, 7, 10, 2, 9, 9, 15, 10, 12, 6, 0, 15, 13, 7, 3, 15, 9, 12, 5, 14, 7, 4, 13, 3, 15, 8, 8, 3, 6, 13, 13, 9, 5, 12, 7, 15, 7, 6, 9, 8, 15, 1, 5, 5, 4, 15, 0, 0, 1, 1, 10, 2, 7, 9, 1, 14, 12, 12, 15, 3, 9, 5, 4, 14, 10, 5, 9, 7, 0, 13, 12, 4, 8, 12, 15, 10, 15, 0, 15, 7, 7, 12, 9, 13, 0, 14, 5, 8, 11, 13, 0, 11, 12, 13, 9, 1, 1, 13, 10, 4, 8, 8, 6, 10, 10, 11, 11, 10, 0, 9, 12, 7, 12, 15, 8, 7, 15, 3, 9, 5, 4, 15, 15, 6, 10, 5, 4, 14, 2, 15, 4, 15, 3, 10, 7, 7, 8, 10, 7, 6, 14, 14, 3, 13, 12, 8, 4, 14, 2, 11, 12, 10, 3, 12, 13, 15, 14, 9, 10, 9, 15, 9, 2, 12, 15, 8, 1, 10, 11, 14, 5, 14, 9, 0, 14, 11, 2, 3, 1, 2, 9]\n"
     ]
    }
   ],
   "source": [
    "y_pred_label = [np.argmax(i) for i in y_pred]\n",
    "print(y_pred_label)"
   ]
  },
  {
   "cell_type": "code",
   "execution_count": 209,
   "metadata": {},
   "outputs": [],
   "source": [
    "con_mat = tf.math.confusion_matrix(y_test, y_pred_label)"
   ]
  },
  {
   "cell_type": "code",
   "execution_count": 210,
   "metadata": {},
   "outputs": [
    {
     "data": {
      "image/png": "[encoded data removed]",
      "text/plain": [
       "<Figure size 1200x800 with 2 Axes>"
      ]
     },
     "metadata": {},
     "output_type": "display_data"
    }
   ],
   "source": [
    "plt.figure(figsize=(12,8))\n",
    "sns.heatmap(con_mat, annot=True, fmt='d', cmap='Blues')\n",
    "plt.xlabel('pridicted label')\n",
    "plt.ylabel('actual label')\n",
    "plt.show()"
   ]
  },
  {
   "cell_type": "markdown",
   "metadata": {},
   "source": [
    "system"
   ]
  },
  {
   "cell_type": "code",
   "execution_count": 264,
   "metadata": {},
   "outputs": [
    {
     "data": {
      "image/png": "[encoded data removed]",
      "text/plain": [
       "<Figure size 640x480 with 1 Axes>"
      ]
     },
     "metadata": {},
     "output_type": "display_data"
    },
    {
     "name": "stdout",
     "output_type": "stream",
     "text": [
      "1/1 [==============================] - 0s 65ms/step\n",
      "The Handwritten Digit is recognised as 8 of a.jpg\n"
     ]
    }
   ],
   "source": [
    "def predict():\n",
    "    input_image_path = input(\"Enter file name: \")\n",
    "\n",
    "    input_image = cv2.imread(input_image_path)\n",
    "\n",
    "    plt.imshow(input_image)\n",
    "    plt.show()\n",
    "\n",
    "    grayscale = cv2.cvtColor(input_image, cv2.COLOR_RGB2GRAY)\n",
    "\n",
    "    input_image_resize = cv2.resize(grayscale, (28, 28))\n",
    "\n",
    "    input_image_resize = input_image_resize/255\n",
    "\n",
    "    image_reshaped = np.reshape(input_image_resize, [1,28,28])\n",
    "\n",
    "    input_prediction = model.predict(image_reshaped)\n",
    "\n",
    "    input_pred_label = np.argmax(input_prediction)\n",
    "\n",
    "    print('The Handwritten Digit is recognised as', input_pred_label, \"of\", input_image_path)\n",
    "\n",
    "predict()"
   ]
  },
  {
   "cell_type": "code",
   "execution_count": 212,
   "metadata": {},
   "outputs": [],
   "source": [
    "# 10 - >     +\n",
    "# 11 - >     /\n",
    "# 12 - >     .\n",
    "# 13 - >     =\n",
    "# 14 - >     X\n",
    "# 15 - >     -"
   ]
  },
  {
   "cell_type": "markdown",
   "metadata": {},
   "source": [
    "model saving\n"
   ]
  },
  {
   "cell_type": "code",
   "execution_count": 265,
   "metadata": {},
   "outputs": [
    {
     "name": "stderr",
     "output_type": "stream",
     "text": [
      "C:\\Users\\samee\\AppData\\Local\\Temp\\ipykernel_8032\\2425931340.py:1: UserWarning: You are saving your model as an HDF5 file via `model.save()`. This file format is considered legacy. We recommend using instead the native Keras format, e.g. `model.save('my_model.keras')`.\n",
      "  keras.models.save_model(model, 'fine_tuned.h5')\n"
     ]
    }
   ],
   "source": [
    "keras.models.save_model(model, 'fine_tuned.h5')"
   ]
  }
 ],
 "metadata": {
  "kernelspec": {
   "display_name": "Python 3",
   "language": "python",
   "name": "python3"
  },
  "language_info": {
   "codemirror_mode": {
    "name": "ipython",
    "version": 3
   },
   "file_extension": ".py",
   "mimetype": "text/x-python",
   "name": "python",
   "nbconvert_exporter": "python",
   "pygments_lexer": "ipython3",
   "version": "3.11.3"
  },
  "orig_nbformat": 4
 },
 "nbformat": 4,
 "nbformat_minor": 2
}
